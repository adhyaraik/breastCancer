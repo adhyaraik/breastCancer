{
 "cells": [
  {
   "cell_type": "code",
   "execution_count": 2,
   "metadata": {},
   "outputs": [],
   "source": [
    "import tkinter as tk\n",
    "from tkinter.ttk import *\n",
    "import pandas as pd\n",
    "from tkinter.filedialog import askopenfilename\n",
    "\n",
    "def import_csv_data():\n",
    "    global v\n",
    "    csv_file_path=askopenfilename()\n",
    "    print(csv_file_path)\n",
    "    v.set(csv_file_path)\n",
    "    \n",
    "    df=pd.read_csv(csv_file_path)\n",
    "    print(df)\n",
    "    \n",
    "    \n",
    "root=tk.Tk()\n",
    "root.geometry('350x200')\n",
    "\n",
    "tk.Label(root,text='Select Symptoms').grid(row=0,column=0)\n",
    "\n",
    "combo = Combobox(root,width=\"47\")\n",
    "combo['values']= (\"---Select Any---\",\"New lump in the breast\",\"Thickening or swelling of part of the breast\",\"Irritation on breast skin\",\"Redness on the area of the breast\",\"Discharge of blood other than breast milk\",\"Any change in the size or the shape of the breast\",\"Pain in any area of the breast\")\n",
    "combo.current(0)\n",
    "combo.grid(column=1, row=0)\n",
    "\n",
    "tk.Label(root,text='File Path').grid(row=1,column=0)\n",
    "\n",
    "v=tk.StringVar()\n",
    "entry=tk.Entry(root,textvariable=v,width='50',state='disabled').grid(row=1,column=1)\n",
    "\n",
    "tk.Button(root,text='Browse Data Set',command=import_csv_data).grid(row=2,column=0)\n",
    "tk.Button(root,text='Close',command=root.destroy).grid(row=2,column=1)\n",
    "\n",
    "root.mainloop()"
   ]
  },
  {
   "cell_type": "code",
   "execution_count": null,
   "metadata": {},
   "outputs": [],
   "source": []
  },
  {
   "cell_type": "code",
   "execution_count": null,
   "metadata": {},
   "outputs": [],
   "source": []
  },
  {
   "cell_type": "code",
   "execution_count": null,
   "metadata": {},
   "outputs": [],
   "source": []
  },
  {
   "cell_type": "code",
   "execution_count": null,
   "metadata": {},
   "outputs": [],
   "source": []
  }
 ],
 "metadata": {
  "kernelspec": {
   "display_name": "Python 3",
   "language": "python",
   "name": "python3"
  },
  "language_info": {
   "codemirror_mode": {
    "name": "ipython",
    "version": 3
   },
   "file_extension": ".py",
   "mimetype": "text/x-python",
   "name": "python",
   "nbconvert_exporter": "python",
   "pygments_lexer": "ipython3",
   "version": "3.7.3"
  }
 },
 "nbformat": 4,
 "nbformat_minor": 2
}
