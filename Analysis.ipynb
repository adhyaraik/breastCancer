{
 "cells": [
  {
   "cell_type": "code",
   "execution_count": 68,
   "metadata": {},
   "outputs": [],
   "source": [
    "import numpy as np\n",
    "import pandas as pd\n",
    "import matplotlib.pyplot as plt\n",
    "import seaborn as sns\n",
    "\n",
    "%matplotlib inline\n",
    "from sklearn.metrics import accuracy_score\n",
    "from sklearn.model_selection import train_test_split\n",
    "\n",
    "import warnings\n",
    "warnings.filterwarnings('ignore')"
   ]
  },
  {
   "cell_type": "code",
   "execution_count": 69,
   "metadata": {},
   "outputs": [],
   "source": [
    "dataset = pd.read_csv(\"data.csv\")"
   ]
  },
  {
   "cell_type": "code",
   "execution_count": 70,
   "metadata": {},
   "outputs": [
    {
     "data": {
      "text/plain": [
       "(569, 32)"
      ]
     },
     "execution_count": 70,
     "metadata": {},
     "output_type": "execute_result"
    }
   ],
   "source": [
    "dataset.shape"
   ]
  },
  {
   "cell_type": "code",
   "execution_count": 71,
   "metadata": {},
   "outputs": [
    {
     "data": {
      "text/html": [
       "<div>\n",
       "<style scoped>\n",
       "    .dataframe tbody tr th:only-of-type {\n",
       "        vertical-align: middle;\n",
       "    }\n",
       "\n",
       "    .dataframe tbody tr th {\n",
       "        vertical-align: top;\n",
       "    }\n",
       "\n",
       "    .dataframe thead th {\n",
       "        text-align: right;\n",
       "    }\n",
       "</style>\n",
       "<table border=\"1\" class=\"dataframe\">\n",
       "  <thead>\n",
       "    <tr style=\"text-align: right;\">\n",
       "      <th></th>\n",
       "      <th>id</th>\n",
       "      <th>diagnosis</th>\n",
       "      <th>radius_mean</th>\n",
       "      <th>texture_mean</th>\n",
       "      <th>perimeter_mean</th>\n",
       "      <th>area_mean</th>\n",
       "      <th>smoothness_mean</th>\n",
       "      <th>compactness_mean</th>\n",
       "      <th>concavity_mean</th>\n",
       "      <th>concave points_mean</th>\n",
       "      <th>...</th>\n",
       "      <th>radius_worst</th>\n",
       "      <th>texture_worst</th>\n",
       "      <th>perimeter_worst</th>\n",
       "      <th>area_worst</th>\n",
       "      <th>smoothness_worst</th>\n",
       "      <th>compactness_worst</th>\n",
       "      <th>concavity_worst</th>\n",
       "      <th>concave points_worst</th>\n",
       "      <th>symmetry_worst</th>\n",
       "      <th>fractal_dimension_worst</th>\n",
       "    </tr>\n",
       "  </thead>\n",
       "  <tbody>\n",
       "    <tr>\n",
       "      <th>0</th>\n",
       "      <td>1</td>\n",
       "      <td>1</td>\n",
       "      <td>17.99</td>\n",
       "      <td>10.38</td>\n",
       "      <td>122.80</td>\n",
       "      <td>1001.0</td>\n",
       "      <td>0.11840</td>\n",
       "      <td>0.27760</td>\n",
       "      <td>0.3001</td>\n",
       "      <td>0.14710</td>\n",
       "      <td>...</td>\n",
       "      <td>25.38</td>\n",
       "      <td>17.33</td>\n",
       "      <td>184.60</td>\n",
       "      <td>2019.0</td>\n",
       "      <td>0.1622</td>\n",
       "      <td>0.6656</td>\n",
       "      <td>0.7119</td>\n",
       "      <td>0.2654</td>\n",
       "      <td>0.4601</td>\n",
       "      <td>0.11890</td>\n",
       "    </tr>\n",
       "    <tr>\n",
       "      <th>1</th>\n",
       "      <td>2</td>\n",
       "      <td>1</td>\n",
       "      <td>20.57</td>\n",
       "      <td>17.77</td>\n",
       "      <td>132.90</td>\n",
       "      <td>1326.0</td>\n",
       "      <td>0.08474</td>\n",
       "      <td>0.07864</td>\n",
       "      <td>0.0869</td>\n",
       "      <td>0.07017</td>\n",
       "      <td>...</td>\n",
       "      <td>24.99</td>\n",
       "      <td>23.41</td>\n",
       "      <td>158.80</td>\n",
       "      <td>1956.0</td>\n",
       "      <td>0.1238</td>\n",
       "      <td>0.1866</td>\n",
       "      <td>0.2416</td>\n",
       "      <td>0.1860</td>\n",
       "      <td>0.2750</td>\n",
       "      <td>0.08902</td>\n",
       "    </tr>\n",
       "    <tr>\n",
       "      <th>2</th>\n",
       "      <td>3</td>\n",
       "      <td>1</td>\n",
       "      <td>19.69</td>\n",
       "      <td>21.25</td>\n",
       "      <td>130.00</td>\n",
       "      <td>1203.0</td>\n",
       "      <td>0.10960</td>\n",
       "      <td>0.15990</td>\n",
       "      <td>0.1974</td>\n",
       "      <td>0.12790</td>\n",
       "      <td>...</td>\n",
       "      <td>23.57</td>\n",
       "      <td>25.53</td>\n",
       "      <td>152.50</td>\n",
       "      <td>1709.0</td>\n",
       "      <td>0.1444</td>\n",
       "      <td>0.4245</td>\n",
       "      <td>0.4504</td>\n",
       "      <td>0.2430</td>\n",
       "      <td>0.3613</td>\n",
       "      <td>0.08758</td>\n",
       "    </tr>\n",
       "    <tr>\n",
       "      <th>3</th>\n",
       "      <td>4</td>\n",
       "      <td>1</td>\n",
       "      <td>11.42</td>\n",
       "      <td>20.38</td>\n",
       "      <td>77.58</td>\n",
       "      <td>386.1</td>\n",
       "      <td>0.14250</td>\n",
       "      <td>0.28390</td>\n",
       "      <td>0.2414</td>\n",
       "      <td>0.10520</td>\n",
       "      <td>...</td>\n",
       "      <td>14.91</td>\n",
       "      <td>26.50</td>\n",
       "      <td>98.87</td>\n",
       "      <td>567.7</td>\n",
       "      <td>0.2098</td>\n",
       "      <td>0.8663</td>\n",
       "      <td>0.6869</td>\n",
       "      <td>0.2575</td>\n",
       "      <td>0.6638</td>\n",
       "      <td>0.17300</td>\n",
       "    </tr>\n",
       "    <tr>\n",
       "      <th>4</th>\n",
       "      <td>5</td>\n",
       "      <td>1</td>\n",
       "      <td>20.29</td>\n",
       "      <td>14.34</td>\n",
       "      <td>135.10</td>\n",
       "      <td>1297.0</td>\n",
       "      <td>0.10030</td>\n",
       "      <td>0.13280</td>\n",
       "      <td>0.1980</td>\n",
       "      <td>0.10430</td>\n",
       "      <td>...</td>\n",
       "      <td>22.54</td>\n",
       "      <td>16.67</td>\n",
       "      <td>152.20</td>\n",
       "      <td>1575.0</td>\n",
       "      <td>0.1374</td>\n",
       "      <td>0.2050</td>\n",
       "      <td>0.4000</td>\n",
       "      <td>0.1625</td>\n",
       "      <td>0.2364</td>\n",
       "      <td>0.07678</td>\n",
       "    </tr>\n",
       "  </tbody>\n",
       "</table>\n",
       "<p>5 rows × 32 columns</p>\n",
       "</div>"
      ],
      "text/plain": [
       "   id  diagnosis  radius_mean  texture_mean  perimeter_mean  area_mean  \\\n",
       "0   1          1        17.99         10.38          122.80     1001.0   \n",
       "1   2          1        20.57         17.77          132.90     1326.0   \n",
       "2   3          1        19.69         21.25          130.00     1203.0   \n",
       "3   4          1        11.42         20.38           77.58      386.1   \n",
       "4   5          1        20.29         14.34          135.10     1297.0   \n",
       "\n",
       "   smoothness_mean  compactness_mean  concavity_mean  concave points_mean  \\\n",
       "0          0.11840           0.27760          0.3001              0.14710   \n",
       "1          0.08474           0.07864          0.0869              0.07017   \n",
       "2          0.10960           0.15990          0.1974              0.12790   \n",
       "3          0.14250           0.28390          0.2414              0.10520   \n",
       "4          0.10030           0.13280          0.1980              0.10430   \n",
       "\n",
       "   ...  radius_worst  texture_worst  perimeter_worst  area_worst  \\\n",
       "0  ...         25.38          17.33           184.60      2019.0   \n",
       "1  ...         24.99          23.41           158.80      1956.0   \n",
       "2  ...         23.57          25.53           152.50      1709.0   \n",
       "3  ...         14.91          26.50            98.87       567.7   \n",
       "4  ...         22.54          16.67           152.20      1575.0   \n",
       "\n",
       "   smoothness_worst  compactness_worst  concavity_worst  concave points_worst  \\\n",
       "0            0.1622             0.6656           0.7119                0.2654   \n",
       "1            0.1238             0.1866           0.2416                0.1860   \n",
       "2            0.1444             0.4245           0.4504                0.2430   \n",
       "3            0.2098             0.8663           0.6869                0.2575   \n",
       "4            0.1374             0.2050           0.4000                0.1625   \n",
       "\n",
       "   symmetry_worst  fractal_dimension_worst  \n",
       "0          0.4601                  0.11890  \n",
       "1          0.2750                  0.08902  \n",
       "2          0.3613                  0.08758  \n",
       "3          0.6638                  0.17300  \n",
       "4          0.2364                  0.07678  \n",
       "\n",
       "[5 rows x 32 columns]"
      ]
     },
     "execution_count": 71,
     "metadata": {},
     "output_type": "execute_result"
    }
   ],
   "source": [
    "dataset.head(5)"
   ]
  },
  {
   "cell_type": "code",
   "execution_count": 72,
   "metadata": {},
   "outputs": [
    {
     "data": {
      "text/html": [
       "<div>\n",
       "<style scoped>\n",
       "    .dataframe tbody tr th:only-of-type {\n",
       "        vertical-align: middle;\n",
       "    }\n",
       "\n",
       "    .dataframe tbody tr th {\n",
       "        vertical-align: top;\n",
       "    }\n",
       "\n",
       "    .dataframe thead th {\n",
       "        text-align: right;\n",
       "    }\n",
       "</style>\n",
       "<table border=\"1\" class=\"dataframe\">\n",
       "  <thead>\n",
       "    <tr style=\"text-align: right;\">\n",
       "      <th></th>\n",
       "      <th>id</th>\n",
       "      <th>diagnosis</th>\n",
       "      <th>radius_mean</th>\n",
       "      <th>texture_mean</th>\n",
       "      <th>perimeter_mean</th>\n",
       "      <th>area_mean</th>\n",
       "      <th>smoothness_mean</th>\n",
       "      <th>compactness_mean</th>\n",
       "      <th>concavity_mean</th>\n",
       "      <th>concave points_mean</th>\n",
       "      <th>...</th>\n",
       "      <th>radius_worst</th>\n",
       "      <th>texture_worst</th>\n",
       "      <th>perimeter_worst</th>\n",
       "      <th>area_worst</th>\n",
       "      <th>smoothness_worst</th>\n",
       "      <th>compactness_worst</th>\n",
       "      <th>concavity_worst</th>\n",
       "      <th>concave points_worst</th>\n",
       "      <th>symmetry_worst</th>\n",
       "      <th>fractal_dimension_worst</th>\n",
       "    </tr>\n",
       "  </thead>\n",
       "  <tbody>\n",
       "    <tr>\n",
       "      <th>167</th>\n",
       "      <td>168</td>\n",
       "      <td>1</td>\n",
       "      <td>16.78</td>\n",
       "      <td>18.80</td>\n",
       "      <td>109.30</td>\n",
       "      <td>886.3</td>\n",
       "      <td>0.08865</td>\n",
       "      <td>0.09182</td>\n",
       "      <td>0.08422</td>\n",
       "      <td>0.06576</td>\n",
       "      <td>...</td>\n",
       "      <td>20.05</td>\n",
       "      <td>26.30</td>\n",
       "      <td>130.70</td>\n",
       "      <td>1260.0</td>\n",
       "      <td>0.1168</td>\n",
       "      <td>0.2119</td>\n",
       "      <td>0.23180</td>\n",
       "      <td>0.14740</td>\n",
       "      <td>0.2810</td>\n",
       "      <td>0.07228</td>\n",
       "    </tr>\n",
       "    <tr>\n",
       "      <th>399</th>\n",
       "      <td>400</td>\n",
       "      <td>0</td>\n",
       "      <td>11.80</td>\n",
       "      <td>17.26</td>\n",
       "      <td>75.26</td>\n",
       "      <td>431.9</td>\n",
       "      <td>0.09087</td>\n",
       "      <td>0.06232</td>\n",
       "      <td>0.02853</td>\n",
       "      <td>0.01638</td>\n",
       "      <td>...</td>\n",
       "      <td>13.45</td>\n",
       "      <td>24.49</td>\n",
       "      <td>86.00</td>\n",
       "      <td>562.0</td>\n",
       "      <td>0.1244</td>\n",
       "      <td>0.1726</td>\n",
       "      <td>0.14490</td>\n",
       "      <td>0.05356</td>\n",
       "      <td>0.2779</td>\n",
       "      <td>0.08121</td>\n",
       "    </tr>\n",
       "    <tr>\n",
       "      <th>212</th>\n",
       "      <td>213</td>\n",
       "      <td>1</td>\n",
       "      <td>28.11</td>\n",
       "      <td>18.47</td>\n",
       "      <td>188.50</td>\n",
       "      <td>2499.0</td>\n",
       "      <td>0.11420</td>\n",
       "      <td>0.15160</td>\n",
       "      <td>0.32010</td>\n",
       "      <td>0.15950</td>\n",
       "      <td>...</td>\n",
       "      <td>28.11</td>\n",
       "      <td>18.47</td>\n",
       "      <td>188.50</td>\n",
       "      <td>2499.0</td>\n",
       "      <td>0.1142</td>\n",
       "      <td>0.1516</td>\n",
       "      <td>0.32010</td>\n",
       "      <td>0.15950</td>\n",
       "      <td>0.1648</td>\n",
       "      <td>0.05525</td>\n",
       "    </tr>\n",
       "    <tr>\n",
       "      <th>552</th>\n",
       "      <td>553</td>\n",
       "      <td>0</td>\n",
       "      <td>12.77</td>\n",
       "      <td>29.43</td>\n",
       "      <td>81.35</td>\n",
       "      <td>507.9</td>\n",
       "      <td>0.08276</td>\n",
       "      <td>0.04234</td>\n",
       "      <td>0.01997</td>\n",
       "      <td>0.01499</td>\n",
       "      <td>...</td>\n",
       "      <td>13.87</td>\n",
       "      <td>36.00</td>\n",
       "      <td>88.10</td>\n",
       "      <td>594.7</td>\n",
       "      <td>0.1234</td>\n",
       "      <td>0.1064</td>\n",
       "      <td>0.08653</td>\n",
       "      <td>0.06498</td>\n",
       "      <td>0.2407</td>\n",
       "      <td>0.06484</td>\n",
       "    </tr>\n",
       "    <tr>\n",
       "      <th>383</th>\n",
       "      <td>384</td>\n",
       "      <td>0</td>\n",
       "      <td>12.39</td>\n",
       "      <td>17.48</td>\n",
       "      <td>80.64</td>\n",
       "      <td>462.9</td>\n",
       "      <td>0.10420</td>\n",
       "      <td>0.12970</td>\n",
       "      <td>0.05892</td>\n",
       "      <td>0.02880</td>\n",
       "      <td>...</td>\n",
       "      <td>14.18</td>\n",
       "      <td>23.13</td>\n",
       "      <td>95.23</td>\n",
       "      <td>600.5</td>\n",
       "      <td>0.1427</td>\n",
       "      <td>0.3593</td>\n",
       "      <td>0.32060</td>\n",
       "      <td>0.09804</td>\n",
       "      <td>0.2819</td>\n",
       "      <td>0.11180</td>\n",
       "    </tr>\n",
       "  </tbody>\n",
       "</table>\n",
       "<p>5 rows × 32 columns</p>\n",
       "</div>"
      ],
      "text/plain": [
       "      id  diagnosis  radius_mean  texture_mean  perimeter_mean  area_mean  \\\n",
       "167  168          1        16.78         18.80          109.30      886.3   \n",
       "399  400          0        11.80         17.26           75.26      431.9   \n",
       "212  213          1        28.11         18.47          188.50     2499.0   \n",
       "552  553          0        12.77         29.43           81.35      507.9   \n",
       "383  384          0        12.39         17.48           80.64      462.9   \n",
       "\n",
       "     smoothness_mean  compactness_mean  concavity_mean  concave points_mean  \\\n",
       "167          0.08865           0.09182         0.08422              0.06576   \n",
       "399          0.09087           0.06232         0.02853              0.01638   \n",
       "212          0.11420           0.15160         0.32010              0.15950   \n",
       "552          0.08276           0.04234         0.01997              0.01499   \n",
       "383          0.10420           0.12970         0.05892              0.02880   \n",
       "\n",
       "     ...  radius_worst  texture_worst  perimeter_worst  area_worst  \\\n",
       "167  ...         20.05          26.30           130.70      1260.0   \n",
       "399  ...         13.45          24.49            86.00       562.0   \n",
       "212  ...         28.11          18.47           188.50      2499.0   \n",
       "552  ...         13.87          36.00            88.10       594.7   \n",
       "383  ...         14.18          23.13            95.23       600.5   \n",
       "\n",
       "     smoothness_worst  compactness_worst  concavity_worst  \\\n",
       "167            0.1168             0.2119          0.23180   \n",
       "399            0.1244             0.1726          0.14490   \n",
       "212            0.1142             0.1516          0.32010   \n",
       "552            0.1234             0.1064          0.08653   \n",
       "383            0.1427             0.3593          0.32060   \n",
       "\n",
       "     concave points_worst  symmetry_worst  fractal_dimension_worst  \n",
       "167               0.14740          0.2810                  0.07228  \n",
       "399               0.05356          0.2779                  0.08121  \n",
       "212               0.15950          0.1648                  0.05525  \n",
       "552               0.06498          0.2407                  0.06484  \n",
       "383               0.09804          0.2819                  0.11180  \n",
       "\n",
       "[5 rows x 32 columns]"
      ]
     },
     "execution_count": 72,
     "metadata": {},
     "output_type": "execute_result"
    }
   ],
   "source": [
    "dataset.sample(5)"
   ]
  },
  {
   "cell_type": "code",
   "execution_count": 73,
   "metadata": {},
   "outputs": [
    {
     "name": "stdout",
     "output_type": "stream",
     "text": [
      "<class 'pandas.core.frame.DataFrame'>\n",
      "RangeIndex: 569 entries, 0 to 568\n",
      "Data columns (total 32 columns):\n",
      "id                         569 non-null int64\n",
      "diagnosis                  569 non-null int64\n",
      "radius_mean                569 non-null float64\n",
      "texture_mean               569 non-null float64\n",
      "perimeter_mean             569 non-null float64\n",
      "area_mean                  569 non-null float64\n",
      "smoothness_mean            569 non-null float64\n",
      "compactness_mean           569 non-null float64\n",
      "concavity_mean             569 non-null float64\n",
      "concave points_mean        569 non-null float64\n",
      "symmetry_mean              569 non-null float64\n",
      "fractal_dimension_mean     569 non-null float64\n",
      "radius_se                  569 non-null float64\n",
      "texture_se                 569 non-null float64\n",
      "perimeter_se               569 non-null float64\n",
      "area_se                    569 non-null float64\n",
      "smoothness_se              569 non-null float64\n",
      "compactness_se             569 non-null float64\n",
      "concavity_se               569 non-null float64\n",
      "concave points_se          569 non-null float64\n",
      "symmetry_se                569 non-null float64\n",
      "fractal_dimension_se       569 non-null float64\n",
      "radius_worst               569 non-null float64\n",
      "texture_worst              569 non-null float64\n",
      "perimeter_worst            569 non-null float64\n",
      "area_worst                 569 non-null float64\n",
      "smoothness_worst           569 non-null float64\n",
      "compactness_worst          569 non-null float64\n",
      "concavity_worst            569 non-null float64\n",
      "concave points_worst       569 non-null float64\n",
      "symmetry_worst             569 non-null float64\n",
      "fractal_dimension_worst    569 non-null float64\n",
      "dtypes: float64(30), int64(2)\n",
      "memory usage: 142.3 KB\n"
     ]
    }
   ],
   "source": [
    "dataset.info()"
   ]
  },
  {
   "cell_type": "code",
   "execution_count": 74,
   "metadata": {},
   "outputs": [
    {
     "data": {
      "text/plain": [
       "array([1, 0], dtype=int64)"
      ]
     },
     "execution_count": 74,
     "metadata": {},
     "output_type": "execute_result"
    }
   ],
   "source": [
    "dataset[\"diagnosis\"].unique()"
   ]
  },
  {
   "cell_type": "code",
   "execution_count": 75,
   "metadata": {},
   "outputs": [
    {
     "name": "stdout",
     "output_type": "stream",
     "text": [
      "0    357\n",
      "1    212\n",
      "Name: diagnosis, dtype: int64\n"
     ]
    },
    {
     "data": {
      "image/png": "[encoded data removed]",
      "text/plain": [
       "<Figure size 432x288 with 1 Axes>"
      ]
     },
     "metadata": {
      "needs_background": "light"
     },
     "output_type": "display_data"
    }
   ],
   "source": [
    "#0-> B  1-> M\n",
    "y = dataset[\"diagnosis\"]\n",
    "\n",
    "sns.countplot(y)\n",
    "\n",
    "diagnosis_temp = dataset.diagnosis.value_counts()\n",
    "\n",
    "print(diagnosis_temp)"
   ]
  },
  {
   "cell_type": "code",
   "execution_count": 76,
   "metadata": {},
   "outputs": [
    {
     "name": "stdout",
     "output_type": "stream",
     "text": [
      "Percentage of patience without Breast Cancer: 62.74\n",
      "Percentage of patience with Breast Cancer: 37.26\n"
     ]
    }
   ],
   "source": [
    "print(\"Percentage of patience without Breast Cancer: \"+str(round(diagnosis_temp[0]*100/569,2)))\n",
    "print(\"Percentage of patience with Breast Cancer: \"+str(round(diagnosis_temp[1]*100/569,2)))"
   ]
  },
  {
   "cell_type": "code",
   "execution_count": 77,
   "metadata": {},
   "outputs": [
    {
     "data": {
      "text/plain": [
       "id                          569.00000\n",
       "diagnosis                     1.00000\n",
       "radius_mean                  28.11000\n",
       "texture_mean                 39.28000\n",
       "perimeter_mean              188.50000\n",
       "area_mean                  2501.00000\n",
       "smoothness_mean               0.16340\n",
       "compactness_mean              0.34540\n",
       "concavity_mean                0.42680\n",
       "concave points_mean           0.20120\n",
       "symmetry_mean                 0.30400\n",
       "fractal_dimension_mean        0.09744\n",
       "radius_se                     2.87300\n",
       "texture_se                    4.88500\n",
       "perimeter_se                 21.98000\n",
       "area_se                     542.20000\n",
       "smoothness_se                 0.03113\n",
       "compactness_se                0.13540\n",
       "concavity_se                  0.39600\n",
       "concave points_se             0.05279\n",
       "symmetry_se                   0.07895\n",
       "fractal_dimension_se          0.02984\n",
       "radius_worst                 36.04000\n",
       "texture_worst                49.54000\n",
       "perimeter_worst             251.20000\n",
       "area_worst                 4254.00000\n",
       "smoothness_worst              0.22260\n",
       "compactness_worst             1.05800\n",
       "concavity_worst               1.25200\n",
       "concave points_worst          0.29100\n",
       "symmetry_worst                0.66380\n",
       "fractal_dimension_worst       0.20750\n",
       "dtype: float64"
      ]
     },
     "execution_count": 77,
     "metadata": {},
     "output_type": "execute_result"
    }
   ],
   "source": [
    "dataset.max()"
   ]
  },
  {
   "cell_type": "code",
   "execution_count": 78,
   "metadata": {},
   "outputs": [
    {
     "name": "stdout",
     "output_type": "stream",
     "text": [
      "Maximum radius is: 28.11\n",
      "Minimum radius is: 6.981\n"
     ]
    }
   ],
   "source": [
    "print('Maximum radius is:',dataset['radius_mean'].max())\n",
    "print('Minimum radius is:',dataset['radius_mean'].min())"
   ]
  },
  {
   "cell_type": "code",
   "execution_count": 79,
   "metadata": {},
   "outputs": [
    {
     "name": "stdout",
     "output_type": "stream",
     "text": [
      "Maximum radius is: 39.28\n",
      "Minimum radius is: 9.71\n"
     ]
    }
   ],
   "source": [
    "print('Maximum radius is:',dataset['texture_mean'].max())\n",
    "print('Minimum radius is:',dataset['texture_mean'].min())"
   ]
  },
  {
   "cell_type": "code",
   "execution_count": 80,
   "metadata": {},
   "outputs": [
    {
     "data": {
      "text/plain": [
       "id                          213.000000\n",
       "diagnosis                     1.000000\n",
       "radius_mean                  28.110000\n",
       "texture_mean                 18.470000\n",
       "perimeter_mean              188.500000\n",
       "area_mean                  2499.000000\n",
       "smoothness_mean               0.114200\n",
       "compactness_mean              0.151600\n",
       "concavity_mean                0.320100\n",
       "concave points_mean           0.159500\n",
       "symmetry_mean                 0.164800\n",
       "fractal_dimension_mean        0.055250\n",
       "radius_se                     2.873000\n",
       "texture_se                    1.476000\n",
       "perimeter_se                 21.980000\n",
       "area_se                     525.600000\n",
       "smoothness_se                 0.013450\n",
       "compactness_se                0.027720\n",
       "concavity_se                  0.063890\n",
       "concave points_se             0.014070\n",
       "symmetry_se                   0.047830\n",
       "fractal_dimension_se          0.004476\n",
       "radius_worst                 28.110000\n",
       "texture_worst                18.470000\n",
       "perimeter_worst             188.500000\n",
       "area_worst                 2499.000000\n",
       "smoothness_worst              0.114200\n",
       "compactness_worst             0.151600\n",
       "concavity_worst               0.320100\n",
       "concave points_worst          0.159500\n",
       "symmetry_worst                0.164800\n",
       "fractal_dimension_worst       0.055250\n",
       "Name: 212, dtype: float64"
      ]
     },
     "execution_count": 80,
     "metadata": {},
     "output_type": "execute_result"
    }
   ],
   "source": [
    "dataset.loc[dataset['radius_mean'].idxmax()]"
   ]
  },
  {
   "cell_type": "code",
   "execution_count": 81,
   "metadata": {},
   "outputs": [
    {
     "data": {
      "text/plain": [
       "id                         102.00000\n",
       "diagnosis                    0.00000\n",
       "radius_mean                  6.98100\n",
       "texture_mean                13.43000\n",
       "perimeter_mean              43.79000\n",
       "area_mean                  143.50000\n",
       "smoothness_mean              0.11700\n",
       "compactness_mean             0.07568\n",
       "concavity_mean               0.00000\n",
       "concave points_mean          0.00000\n",
       "symmetry_mean                0.19300\n",
       "fractal_dimension_mean       0.07818\n",
       "radius_se                    0.22410\n",
       "texture_se                   1.50800\n",
       "perimeter_se                 1.55300\n",
       "area_se                      9.83300\n",
       "smoothness_se                0.01019\n",
       "compactness_se               0.01084\n",
       "concavity_se                 0.00000\n",
       "concave points_se            0.00000\n",
       "symmetry_se                  0.02659\n",
       "fractal_dimension_se         0.00410\n",
       "radius_worst                 7.93000\n",
       "texture_worst               19.54000\n",
       "perimeter_worst             50.41000\n",
       "area_worst                 185.20000\n",
       "smoothness_worst             0.15840\n",
       "compactness_worst            0.12020\n",
       "concavity_worst              0.00000\n",
       "concave points_worst         0.00000\n",
       "symmetry_worst               0.29320\n",
       "fractal_dimension_worst      0.09382\n",
       "Name: 101, dtype: float64"
      ]
     },
     "execution_count": 81,
     "metadata": {},
     "output_type": "execute_result"
    }
   ],
   "source": [
    "dataset.loc[dataset['radius_mean'].idxmin()]"
   ]
  },
  {
   "cell_type": "code",
   "execution_count": 82,
   "metadata": {},
   "outputs": [],
   "source": [
    "predictors = dataset.drop(['id','diagnosis'],axis=1)\n",
    "target = dataset[\"diagnosis\"]\n",
    "\n",
    "X_train,X_test,Y_train,Y_test = train_test_split(predictors,target,test_size=0.20,random_state=0)"
   ]
  },
  {
   "cell_type": "code",
   "execution_count": 83,
   "metadata": {},
   "outputs": [
    {
     "name": "stdout",
     "output_type": "stream",
     "text": [
      "The accuracy score achieved using Logistic Regression is: 95.61%\n"
     ]
    }
   ],
   "source": [
    "from sklearn.linear_model import LogisticRegression\n",
    "\n",
    "lr = LogisticRegression()\n",
    "\n",
    "lr.fit(X_train,Y_train)\n",
    "\n",
    "Y_pred_lr = lr.predict(X_test)\n",
    "score_lr = round(accuracy_score(Y_pred_lr,Y_test)*100,2)\n",
    "\n",
    "print(\"The accuracy score achieved using Logistic Regression is: \"+str(score_lr)+\"%\")"
   ]
  },
  {
   "cell_type": "code",
   "execution_count": 84,
   "metadata": {},
   "outputs": [
    {
     "name": "stdout",
     "output_type": "stream",
     "text": [
      "The accuracy score achieved using Naive Bayes is: 92.98%\n"
     ]
    }
   ],
   "source": [
    "from sklearn.naive_bayes import GaussianNB\n",
    "\n",
    "nb = GaussianNB()\n",
    "\n",
    "nb.fit(X_train,Y_train)\n",
    "\n",
    "Y_pred_nb = nb.predict(X_test)\n",
    "\n",
    "score_nb = round(accuracy_score(Y_pred_nb,Y_test)*100,2)\n",
    "\n",
    "print(\"The accuracy score achieved using Naive Bayes is: \"+str(score_nb)+\"%\")"
   ]
  },
  {
   "cell_type": "code",
   "execution_count": 85,
   "metadata": {},
   "outputs": [
    {
     "name": "stdout",
     "output_type": "stream",
     "text": [
      "The accuracy score achieved using Random Forest is: 96.49%\n"
     ]
    }
   ],
   "source": [
    "from sklearn.ensemble import RandomForestClassifier\n",
    "\n",
    "rf = RandomForestClassifier(n_estimators = 10, criterion = 'entropy',random_state=x)\n",
    "rf.fit(X_train,Y_train)\n",
    "Y_pred_rf = rf.predict(X_test)\n",
    "\n",
    "score_rf = round(accuracy_score(Y_pred_rf,Y_test)*100,2)\n",
    "\n",
    "print(\"The accuracy score achieved using Random Forest is: \"+str(score_rf)+\"%\")"
   ]
  },
  {
   "cell_type": "code",
   "execution_count": null,
   "metadata": {},
   "outputs": [],
   "source": []
  }
 ],
 "metadata": {
  "kernelspec": {
   "display_name": "Python 3",
   "language": "python",
   "name": "python3"
  },
  "language_info": {
   "codemirror_mode": {
    "name": "ipython",
    "version": 3
   },
   "file_extension": ".py",
   "mimetype": "text/x-python",
   "name": "python",
   "nbconvert_exporter": "python",
   "pygments_lexer": "ipython3",
   "version": "3.7.3"
  }
 },
 "nbformat": 4,
 "nbformat_minor": 2
}
